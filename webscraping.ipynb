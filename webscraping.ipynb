{
 "cells": [
  {
   "cell_type": "code",
   "execution_count": 42,
   "metadata": {},
   "outputs": [],
   "source": [
    "import requests\n",
    "from bs4 import BeautifulSoup\n",
    "import lxml"
   ]
  },
  {
   "cell_type": "code",
   "execution_count": 43,
   "metadata": {},
   "outputs": [],
   "source": [
    "url = 'http://books.toscrape.com/'\n",
    "dir = '/home/garrotero/category_page_data/'"
   ]
  },
  {
   "cell_type": "code",
   "execution_count": 44,
   "metadata": {},
   "outputs": [],
   "source": [
    "def create_file_with_url_content(url, filename):\n",
    "    request = requests.get(url)\n",
    "    content = request.text\n",
    "    scraping_file = open(dir + filename, 'w')\n",
    "    soup = BeautifulSoup(content)\n",
    "    soup = str(soup)\n",
    "    scraping_file.write(soup)\n",
    "    scraping_file.close()\n",
    "    scraping_file = open(dir + filename, 'a')\n",
    "    scraping_file.write('FULL WEB ADDRESS: {}'.format(url))\n",
    "    scraping_file.close()"
   ]
  },
  {
   "cell_type": "code",
   "execution_count": 45,
   "metadata": {},
   "outputs": [],
   "source": [
    "create_file_with_url_content(url, 'category_page_data_0.txt')"
   ]
  },
  {
   "cell_type": "code",
   "execution_count": 46,
   "metadata": {},
   "outputs": [],
   "source": [
    "def list_of_hrefs(file, href_file_name):\n",
    "    list_of_hrefs = []\n",
    "    for book in open(file, 'r').readlines():\n",
    "        if 'a href' in book:\n",
    "            list_of_hrefs.append(book)        \n",
    "    href_file = open(dir + href_file_name, 'w')\n",
    "    for href in list_of_hrefs:\n",
    "        href_file.write(href)\n",
    "    href_file.close()"
   ]
  },
  {
   "cell_type": "code",
   "execution_count": 47,
   "metadata": {},
   "outputs": [],
   "source": [
    "list_of_hrefs(dir +'category_page_data_0.txt', 'href_file.txt')"
   ]
  },
  {
   "cell_type": "code",
   "execution_count": 48,
   "metadata": {},
   "outputs": [],
   "source": [
    "def string_search(string):\n",
    "    start = string.find('a href=\"') + len('a href=\"')\n",
    "    end = string.find('\">')\n",
    "    extension = ''\n",
    "    for char in string[start:end]:\n",
    "        extension += char\n",
    "    return extension"
   ]
  },
  {
   "cell_type": "code",
   "execution_count": 49,
   "metadata": {},
   "outputs": [],
   "source": [
    "#https://books.toscrape.com/"
   ]
  },
  {
   "cell_type": "code",
   "execution_count": 50,
   "metadata": {},
   "outputs": [],
   "source": [
    "def list_of_categories():\n",
    "    list_of_categories = []\n",
    "    href_file = open('href_file.txt', 'r')\n",
    "    for href in href_file.readlines():\n",
    "        if 'catalogue/category' in href:\n",
    "            list_of_categories.append('https://books.toscrape.com/' + string_search(href))\n",
    "    return list_of_categories"
   ]
  },
  {
   "cell_type": "code",
   "execution_count": null,
   "metadata": {},
   "outputs": [],
   "source": [
    "number = 1\n",
    "list_of_files = []\n",
    "for url_page in list_of_categories():\n",
    "    create_file_with_url_content(url_page, 'category_page_data_{}.txt'.format(number))\n",
    "    list_of_files.append('category_page_data_{}.txt'.format(number))\n",
    "    number += 1\n",
    "print(list_of_files)"
   ]
  },
  {
   "cell_type": "code",
   "execution_count": 52,
   "metadata": {},
   "outputs": [],
   "source": [
    "import os\n",
    "os.remove(dir + 'category_page_data_1.txt')"
   ]
  },
  {
   "cell_type": "code",
   "execution_count": 53,
   "metadata": {},
   "outputs": [],
   "source": [
    "for filename in os.listdir(dir):\n",
    "    if 'category_page_data_' in filename and not filename == 'category_page_data_0':\n",
    "        list_of_hrefs(dir + filename, 'hrefs_' + filename)"
   ]
  }
 ],
 "metadata": {
  "interpreter": {
   "hash": "bdb97c11ab54a085a36fa3edc6b9d445b9805a6d2a2882a5626225b5b026c1cf"
  },
  "kernelspec": {
   "display_name": "Python 3.10.0 64-bit ('webscraping': conda)",
   "language": "python",
   "name": "python3"
  },
  "language_info": {
   "codemirror_mode": {
    "name": "ipython",
    "version": 3
   },
   "file_extension": ".py",
   "mimetype": "text/x-python",
   "name": "python",
   "nbconvert_exporter": "python",
   "pygments_lexer": "ipython3",
   "version": "3.10.0"
  },
  "orig_nbformat": 4
 },
 "nbformat": 4,
 "nbformat_minor": 2
}
