{
 "cells": [
  {
   "cell_type": "code",
   "execution_count": 4,
   "metadata": {},
   "outputs": [],
   "source": [
    "import requests\n",
    "from bs4 import BeautifulSoup\n",
    "import lxml\n",
    "import re"
   ]
  },
  {
   "cell_type": "code",
   "execution_count": 5,
   "metadata": {},
   "outputs": [],
   "source": [
    "url = 'http://books.toscrape.com/'\n",
    "dir = '/home/garrotero/category_page_data/'"
   ]
  },
  {
   "cell_type": "code",
   "execution_count": 6,
   "metadata": {},
   "outputs": [
    {
     "name": "stdout",
     "output_type": "stream",
     "text": [
      "done\n"
     ]
    }
   ],
   "source": [
    "def create_file_with_url_content(url, filename):\n",
    "    request = requests.get(url)\n",
    "    content = request.text\n",
    "    scraping_file = open(dir + filename, 'w')\n",
    "    soup = BeautifulSoup(content)\n",
    "    soup = str(soup)\n",
    "    scraping_file.write(soup)\n",
    "    scraping_file.close()\n",
    "    scraping_file = open(dir + filename, 'a')\n",
    "    scraping_file.write('FULL WEB ADDRESS: {}'.format(url))\n",
    "    scraping_file.close()\n",
    "print('done')"
   ]
  },
  {
   "cell_type": "code",
   "execution_count": 7,
   "metadata": {},
   "outputs": [],
   "source": [
    "create_file_with_url_content(url, 'category_page_data_0.txt')"
   ]
  },
  {
   "cell_type": "code",
   "execution_count": 8,
   "metadata": {},
   "outputs": [],
   "source": [
    "def list_of_hrefs(file, href_file_name):\n",
    "    list_of_hrefs = []\n",
    "    for book in open(file, 'r').readlines():\n",
    "        if 'a href' in book:\n",
    "            list_of_hrefs.append(book)        \n",
    "    href_file = open(dir + href_file_name, 'w')\n",
    "    for href in list_of_hrefs:\n",
    "        href_file.write(href)\n",
    "    href_file.close()\n",
    "    return list_of_hrefs"
   ]
  },
  {
   "cell_type": "code",
   "execution_count": 9,
   "metadata": {},
   "outputs": [
    {
     "data": {
      "text/plain": [
       "['<div class=\"col-sm-8 h1\"><a href=\"index.html\">Books to Scrape</a><small> We love being scraped!</small>\\n',\n",
       " '<a href=\"index.html\">Home</a>\\n',\n",
       " '<a href=\"catalogue/category/books_1/index.html\">\\n',\n",
       " '<a href=\"catalogue/category/books/travel_2/index.html\">\\n',\n",
       " '<a href=\"catalogue/category/books/mystery_3/index.html\">\\n',\n",
       " '<a href=\"catalogue/category/books/historical-fiction_4/index.html\">\\n',\n",
       " '<a href=\"catalogue/category/books/sequential-art_5/index.html\">\\n',\n",
       " '<a href=\"catalogue/category/books/classics_6/index.html\">\\n',\n",
       " '<a href=\"catalogue/category/books/philosophy_7/index.html\">\\n',\n",
       " '<a href=\"catalogue/category/books/romance_8/index.html\">\\n',\n",
       " '<a href=\"catalogue/category/books/womens-fiction_9/index.html\">\\n',\n",
       " '<a href=\"catalogue/category/books/fiction_10/index.html\">\\n',\n",
       " '<a href=\"catalogue/category/books/childrens_11/index.html\">\\n',\n",
       " '<a href=\"catalogue/category/books/religion_12/index.html\">\\n',\n",
       " '<a href=\"catalogue/category/books/nonfiction_13/index.html\">\\n',\n",
       " '<a href=\"catalogue/category/books/music_14/index.html\">\\n',\n",
       " '<a href=\"catalogue/category/books/default_15/index.html\">\\n',\n",
       " '<a href=\"catalogue/category/books/science-fiction_16/index.html\">\\n',\n",
       " '<a href=\"catalogue/category/books/sports-and-games_17/index.html\">\\n',\n",
       " '<a href=\"catalogue/category/books/add-a-comment_18/index.html\">\\n',\n",
       " '<a href=\"catalogue/category/books/fantasy_19/index.html\">\\n',\n",
       " '<a href=\"catalogue/category/books/new-adult_20/index.html\">\\n',\n",
       " '<a href=\"catalogue/category/books/young-adult_21/index.html\">\\n',\n",
       " '<a href=\"catalogue/category/books/science_22/index.html\">\\n',\n",
       " '<a href=\"catalogue/category/books/poetry_23/index.html\">\\n',\n",
       " '<a href=\"catalogue/category/books/paranormal_24/index.html\">\\n',\n",
       " '<a href=\"catalogue/category/books/art_25/index.html\">\\n',\n",
       " '<a href=\"catalogue/category/books/psychology_26/index.html\">\\n',\n",
       " '<a href=\"catalogue/category/books/autobiography_27/index.html\">\\n',\n",
       " '<a href=\"catalogue/category/books/parenting_28/index.html\">\\n',\n",
       " '<a href=\"catalogue/category/books/adult-fiction_29/index.html\">\\n',\n",
       " '<a href=\"catalogue/category/books/humor_30/index.html\">\\n',\n",
       " '<a href=\"catalogue/category/books/horror_31/index.html\">\\n',\n",
       " '<a href=\"catalogue/category/books/history_32/index.html\">\\n',\n",
       " '<a href=\"catalogue/category/books/food-and-drink_33/index.html\">\\n',\n",
       " '<a href=\"catalogue/category/books/christian-fiction_34/index.html\">\\n',\n",
       " '<a href=\"catalogue/category/books/business_35/index.html\">\\n',\n",
       " '<a href=\"catalogue/category/books/biography_36/index.html\">\\n',\n",
       " '<a href=\"catalogue/category/books/thriller_37/index.html\">\\n',\n",
       " '<a href=\"catalogue/category/books/contemporary_38/index.html\">\\n',\n",
       " '<a href=\"catalogue/category/books/spirituality_39/index.html\">\\n',\n",
       " '<a href=\"catalogue/category/books/academic_40/index.html\">\\n',\n",
       " '<a href=\"catalogue/category/books/self-help_41/index.html\">\\n',\n",
       " '<a href=\"catalogue/category/books/historical_42/index.html\">\\n',\n",
       " '<a href=\"catalogue/category/books/christian_43/index.html\">\\n',\n",
       " '<a href=\"catalogue/category/books/suspense_44/index.html\">\\n',\n",
       " '<a href=\"catalogue/category/books/short-stories_45/index.html\">\\n',\n",
       " '<a href=\"catalogue/category/books/novels_46/index.html\">\\n',\n",
       " '<a href=\"catalogue/category/books/health_47/index.html\">\\n',\n",
       " '<a href=\"catalogue/category/books/politics_48/index.html\">\\n',\n",
       " '<a href=\"catalogue/category/books/cultural_49/index.html\">\\n',\n",
       " '<a href=\"catalogue/category/books/erotica_50/index.html\">\\n',\n",
       " '<a href=\"catalogue/category/books/crime_51/index.html\">\\n',\n",
       " '<a href=\"catalogue/a-light-in-the-attic_1000/index.html\"><img alt=\"A Light in the Attic\" class=\"thumbnail\" src=\"media/cache/2c/da/2cdad67c44b002e7ead0cc35693c0e8b.jpg\"/></a>\\n',\n",
       " '<h3><a href=\"catalogue/a-light-in-the-attic_1000/index.html\" title=\"A Light in the Attic\">A Light in the ...</a></h3>\\n',\n",
       " '<a href=\"catalogue/tipping-the-velvet_999/index.html\"><img alt=\"Tipping the Velvet\" class=\"thumbnail\" src=\"media/cache/26/0c/260c6ae16bce31c8f8c95daddd9f4a1c.jpg\"/></a>\\n',\n",
       " '<h3><a href=\"catalogue/tipping-the-velvet_999/index.html\" title=\"Tipping the Velvet\">Tipping the Velvet</a></h3>\\n',\n",
       " '<a href=\"catalogue/soumission_998/index.html\"><img alt=\"Soumission\" class=\"thumbnail\" src=\"media/cache/3e/ef/3eef99c9d9adef34639f510662022830.jpg\"/></a>\\n',\n",
       " '<h3><a href=\"catalogue/soumission_998/index.html\" title=\"Soumission\">Soumission</a></h3>\\n',\n",
       " '<a href=\"catalogue/sharp-objects_997/index.html\"><img alt=\"Sharp Objects\" class=\"thumbnail\" src=\"media/cache/32/51/3251cf3a3412f53f339e42cac2134093.jpg\"/></a>\\n',\n",
       " '<h3><a href=\"catalogue/sharp-objects_997/index.html\" title=\"Sharp Objects\">Sharp Objects</a></h3>\\n',\n",
       " '<a href=\"catalogue/sapiens-a-brief-history-of-humankind_996/index.html\"><img alt=\"Sapiens: A Brief History of Humankind\" class=\"thumbnail\" src=\"media/cache/be/a5/bea5697f2534a2f86a3ef27b5a8c12a6.jpg\"/></a>\\n',\n",
       " '<h3><a href=\"catalogue/sapiens-a-brief-history-of-humankind_996/index.html\" title=\"Sapiens: A Brief History of Humankind\">Sapiens: A Brief History ...</a></h3>\\n',\n",
       " '<a href=\"catalogue/the-requiem-red_995/index.html\"><img alt=\"The Requiem Red\" class=\"thumbnail\" src=\"media/cache/68/33/68339b4c9bc034267e1da611ab3b34f8.jpg\"/></a>\\n',\n",
       " '<h3><a href=\"catalogue/the-requiem-red_995/index.html\" title=\"The Requiem Red\">The Requiem Red</a></h3>\\n',\n",
       " '<a href=\"catalogue/the-dirty-little-secrets-of-getting-your-dream-job_994/index.html\"><img alt=\"The Dirty Little Secrets of Getting Your Dream Job\" class=\"thumbnail\" src=\"media/cache/92/27/92274a95b7c251fea59a2b8a78275ab4.jpg\"/></a>\\n',\n",
       " '<h3><a href=\"catalogue/the-dirty-little-secrets-of-getting-your-dream-job_994/index.html\" title=\"The Dirty Little Secrets of Getting Your Dream Job\">The Dirty Little Secrets ...</a></h3>\\n',\n",
       " '<a href=\"catalogue/the-coming-woman-a-novel-based-on-the-life-of-the-infamous-feminist-victoria-woodhull_993/index.html\"><img alt=\"The Coming Woman: A Novel Based on the Life of the Infamous Feminist, Victoria Woodhull\" class=\"thumbnail\" src=\"media/cache/3d/54/3d54940e57e662c4dd1f3ff00c78cc64.jpg\"/></a>\\n',\n",
       " '<h3><a href=\"catalogue/the-coming-woman-a-novel-based-on-the-life-of-the-infamous-feminist-victoria-woodhull_993/index.html\" title=\"The Coming Woman: A Novel Based on the Life of the Infamous Feminist, Victoria Woodhull\">The Coming Woman: A ...</a></h3>\\n',\n",
       " '<a href=\"catalogue/the-boys-in-the-boat-nine-americans-and-their-epic-quest-for-gold-at-the-1936-berlin-olympics_992/index.html\"><img alt=\"The Boys in the Boat: Nine Americans and Their Epic Quest for Gold at the 1936 Berlin Olympics\" class=\"thumbnail\" src=\"media/cache/66/88/66883b91f6804b2323c8369331cb7dd1.jpg\"/></a>\\n',\n",
       " '<h3><a href=\"catalogue/the-boys-in-the-boat-nine-americans-and-their-epic-quest-for-gold-at-the-1936-berlin-olympics_992/index.html\" title=\"The Boys in the Boat: Nine Americans and Their Epic Quest for Gold at the 1936 Berlin Olympics\">The Boys in the ...</a></h3>\\n',\n",
       " '<a href=\"catalogue/the-black-maria_991/index.html\"><img alt=\"The Black Maria\" class=\"thumbnail\" src=\"media/cache/58/46/5846057e28022268153beff6d352b06c.jpg\"/></a>\\n',\n",
       " '<h3><a href=\"catalogue/the-black-maria_991/index.html\" title=\"The Black Maria\">The Black Maria</a></h3>\\n',\n",
       " '<a href=\"catalogue/starving-hearts-triangular-trade-trilogy-1_990/index.html\"><img alt=\"Starving Hearts (Triangular Trade Trilogy, #1)\" class=\"thumbnail\" src=\"media/cache/be/f4/bef44da28c98f905a3ebec0b87be8530.jpg\"/></a>\\n',\n",
       " '<h3><a href=\"catalogue/starving-hearts-triangular-trade-trilogy-1_990/index.html\" title=\"Starving Hearts (Triangular Trade Trilogy, #1)\">Starving Hearts (Triangular Trade ...</a></h3>\\n',\n",
       " '<a href=\"catalogue/shakespeares-sonnets_989/index.html\"><img alt=\"Shakespeare\\'s Sonnets\" class=\"thumbnail\" src=\"media/cache/10/48/1048f63d3b5061cd2f424d20b3f9b666.jpg\"/></a>\\n',\n",
       " '<h3><a href=\"catalogue/shakespeares-sonnets_989/index.html\" title=\"Shakespeare\\'s Sonnets\">Shakespeare\\'s Sonnets</a></h3>\\n',\n",
       " '<a href=\"catalogue/set-me-free_988/index.html\"><img alt=\"Set Me Free\" class=\"thumbnail\" src=\"media/cache/5b/88/5b88c52633f53cacf162c15f4f823153.jpg\"/></a>\\n',\n",
       " '<h3><a href=\"catalogue/set-me-free_988/index.html\" title=\"Set Me Free\">Set Me Free</a></h3>\\n',\n",
       " '<a href=\"catalogue/scott-pilgrims-precious-little-life-scott-pilgrim-1_987/index.html\"><img alt=\"Scott Pilgrim\\'s Precious Little Life (Scott Pilgrim #1)\" class=\"thumbnail\" src=\"media/cache/94/b1/94b1b8b244bce9677c2f29ccc890d4d2.jpg\"/></a>\\n',\n",
       " '<h3><a href=\"catalogue/scott-pilgrims-precious-little-life-scott-pilgrim-1_987/index.html\" title=\"Scott Pilgrim\\'s Precious Little Life (Scott Pilgrim #1)\">Scott Pilgrim\\'s Precious Little ...</a></h3>\\n',\n",
       " '<a href=\"catalogue/rip-it-up-and-start-again_986/index.html\"><img alt=\"Rip it Up and Start Again\" class=\"thumbnail\" src=\"media/cache/81/c4/81c4a973364e17d01f217e1188253d5e.jpg\"/></a>\\n',\n",
       " '<h3><a href=\"catalogue/rip-it-up-and-start-again_986/index.html\" title=\"Rip it Up and Start Again\">Rip it Up and ...</a></h3>\\n',\n",
       " '<a href=\"catalogue/our-band-could-be-your-life-scenes-from-the-american-indie-underground-1981-1991_985/index.html\"><img alt=\"Our Band Could Be Your Life: Scenes from the American Indie Underground, 1981-1991\" class=\"thumbnail\" src=\"media/cache/54/60/54607fe8945897cdcced0044103b10b6.jpg\"/></a>\\n',\n",
       " '<h3><a href=\"catalogue/our-band-could-be-your-life-scenes-from-the-american-indie-underground-1981-1991_985/index.html\" title=\"Our Band Could Be Your Life: Scenes from the American Indie Underground, 1981-1991\">Our Band Could Be ...</a></h3>\\n',\n",
       " '<a href=\"catalogue/olio_984/index.html\"><img alt=\"Olio\" class=\"thumbnail\" src=\"media/cache/55/33/553310a7162dfbc2c6d19a84da0df9e1.jpg\"/></a>\\n',\n",
       " '<h3><a href=\"catalogue/olio_984/index.html\" title=\"Olio\">Olio</a></h3>\\n',\n",
       " '<a href=\"catalogue/mesaerion-the-best-science-fiction-stories-1800-1849_983/index.html\"><img alt=\"Mesaerion: The Best Science Fiction Stories 1800-1849\" class=\"thumbnail\" src=\"media/cache/09/a3/09a3aef48557576e1a85ba7efea8ecb7.jpg\"/></a>\\n',\n",
       " '<h3><a href=\"catalogue/mesaerion-the-best-science-fiction-stories-1800-1849_983/index.html\" title=\"Mesaerion: The Best Science Fiction Stories 1800-1849\">Mesaerion: The Best Science ...</a></h3>\\n',\n",
       " '<a href=\"catalogue/libertarianism-for-beginners_982/index.html\"><img alt=\"Libertarianism for Beginners\" class=\"thumbnail\" src=\"media/cache/0b/bc/0bbcd0a6f4bcd81ccb1049a52736406e.jpg\"/></a>\\n',\n",
       " '<h3><a href=\"catalogue/libertarianism-for-beginners_982/index.html\" title=\"Libertarianism for Beginners\">Libertarianism for Beginners</a></h3>\\n',\n",
       " '<a href=\"catalogue/its-only-the-himalayas_981/index.html\"><img alt=\"It\\'s Only the Himalayas\" class=\"thumbnail\" src=\"media/cache/27/a5/27a53d0bb95bdd88288eaf66c9230d7e.jpg\"/></a>\\n',\n",
       " '<h3><a href=\"catalogue/its-only-the-himalayas_981/index.html\" title=\"It\\'s Only the Himalayas\">It\\'s Only the Himalayas</a></h3>\\n',\n",
       " '<li class=\"next\"><a href=\"catalogue/page-2.html\">next</a></li>\\n']"
      ]
     },
     "execution_count": 9,
     "metadata": {},
     "output_type": "execute_result"
    }
   ],
   "source": [
    "list_of_hrefs(dir +'category_page_data_0.txt', 'href_file.txt')"
   ]
  },
  {
   "cell_type": "code",
   "execution_count": 10,
   "metadata": {},
   "outputs": [],
   "source": [
    "def string_search(string):\n",
    "    start = string.find('a href=\"') + len('a href=\"')\n",
    "    end = string.find('\">')\n",
    "    extension = ''\n",
    "    for char in string[start:end]:\n",
    "        extension += char\n",
    "    return extension"
   ]
  },
  {
   "cell_type": "code",
   "execution_count": 11,
   "metadata": {},
   "outputs": [],
   "source": [
    "#https://books.toscrape.com/"
   ]
  },
  {
   "cell_type": "code",
   "execution_count": 12,
   "metadata": {},
   "outputs": [],
   "source": [
    "def list_of_categories():\n",
    "    list_of_categories = []\n",
    "    href_file = open('href_file.txt', 'r')\n",
    "    for href in href_file.readlines():\n",
    "        if 'catalogue/category' in href:\n",
    "            list_of_categories.append('https://books.toscrape.com/' + string_search(href))\n",
    "    print(list_of_categories)"
   ]
  },
  {
   "cell_type": "code",
   "execution_count": null,
   "metadata": {},
   "outputs": [],
   "source": [
    "def put_url_data_into_files(list, file_base_name):\n",
    "    number = 1\n",
    "    list_of_files = []\n",
    "    for url_page in list:\n",
    "        create_file_with_url_content(url_page, file_base_name.format(number))\n",
    "        list_of_files.append('category_page_data_{}.txt'.format(number))\n",
    "        number += 1\n",
    "    return list_of_files\n",
    "\n",
    "list_of_files = put_url_data_into_files(list_of_categories(), 'category_page_data_{}.txt')\n",
    "print(list_of_files)"
   ]
  },
  {
   "cell_type": "code",
   "execution_count": null,
   "metadata": {},
   "outputs": [],
   "source": [
    "if 'category_page_data_1.txt' in list_of_files:\n",
    "    list_of_files.remove('category_page_data_1.txt')\n",
    "print(list_of_files)"
   ]
  },
  {
   "cell_type": "code",
   "execution_count": 154,
   "metadata": {},
   "outputs": [],
   "source": [
    "file_with_pages = ()\n",
    "for file in list_of_files:\n",
    "    opened_file = open(dir + file, 'r')\n",
    "    for line in opened_file.readlines():\n",
    "        if 'Page 1 of' in line:\n",
    "            pages_match = re.findall(pattern='Page 1 of .', string=line)\n",
    "            if pages_match:\n",
    "                pages_match = pages_match[-1].split()[-1]\n",
    "                file_with_pages += ([file, pages_match],)\n",
    "        opened_file.close()\n"
   ]
  },
  {
   "cell_type": "code",
   "execution_count": null,
   "metadata": {},
   "outputs": [],
   "source": [
    "second_page_files = []\n",
    "for file in file_with_pages:\n",
    "    opened_category_file = open(dir + file[0], 'r')\n",
    "    for line in opened_category_file.readlines():\n",
    "        if 'FULL WEB ADDRESS' in line:\n",
    "            url_address = re.findall(pattern=r'(?<=ADDRESS: ).*', string=line)\n",
    "            url_address = url_address[0]\n",
    "            for number in range(2, int(file[1]) + 1):\n",
    "                second_page_files.append(re.sub('index', 'page-{}'.format(number), url_address))\n",
    "print(second_page_files)"
   ]
  },
  {
   "cell_type": "code",
   "execution_count": null,
   "metadata": {},
   "outputs": [],
   "source": [
    "for page in second_page_files:\n",
    "    request = requests.get(url)\n",
    "    content = request.text\n",
    "    for line in content:\n",
    "        print(line)"
   ]
  },
  {
   "cell_type": "code",
   "execution_count": null,
   "metadata": {},
   "outputs": [],
   "source": [
    "list_of_books_without_first_section = []\n",
    "for file in list_of_files:\n",
    "    file = dir + file\n",
    "    open_file = open(file, 'r')\n",
    "    individual_counter = 0\n",
    "    for line in open_file.readlines():               \n",
    "        match = re.search(pattern='(?<=<h3><a href=\"../../../).*(?=\" )', string=line)\n",
    "        if match:\n",
    "            list_of_books_without_first_section.append(match.group())\n",
    "            individual_counter += 1\n",
    "        results_number_match = re.search(pattern='(?<=<strong>).*(?=</strong> results)', string=line)\n",
    "        if results_number_match:\n",
    "            results = results_number_match.group()\n",
    "        pages_match_list = []\n",
    "\n",
    "    #print('This is how many results there should be:', results)\n",
    "    #print('This is how many results there are:', individual_counter)\n",
    "    open_file.close()\n",
    "#print(len(list_of_books_without_first_section))\n",
    "print(list_of_books_without_first_section)   "
   ]
  },
  {
   "cell_type": "code",
   "execution_count": null,
   "metadata": {},
   "outputs": [],
   "source": [
    "#import re\n",
    "#list_of_href_matches = []\n",
    "#for filename in os.listdir('/home/garrotero/category_page_data'):\n",
    "#    if filename.startswith('hrefs'):\n",
    "#        opened_href_file = open(dir + filename, 'r')\n",
    "#        for fileline in opened_href_file.readlines():\n",
    "#            fileline = str(fileline)\n",
    "#            match = re.search(pattern='(?<=a href=\"../../../).*(?=\" title)', string=fileline)\n",
    "#            if match:\n",
    "#                list_of_href_matches.append(match.group())\n",
    "#print(list_of_href_matches)\n",
    "#print(len(list_of_href_matches))\n"
   ]
  },
  {
   "cell_type": "code",
   "execution_count": 59,
   "metadata": {},
   "outputs": [],
   "source": [
    "#full_book_url_list = []\n",
    "#for match in list_of_href_matches:\n",
    "#    full_book_url_list.append('https://books.toscrape.com/catalogue/' + match)\n",
    "#put_url_data_into_files(full_book_url_list, 'book_page_data_{}.txt')\n",
    "    \n"
   ]
  }
 ],
 "metadata": {
  "interpreter": {
   "hash": "bdb97c11ab54a085a36fa3edc6b9d445b9805a6d2a2882a5626225b5b026c1cf"
  },
  "kernelspec": {
   "display_name": "Python 3.10.0 64-bit ('webscraping': conda)",
   "language": "python",
   "name": "python3"
  },
  "language_info": {
   "codemirror_mode": {
    "name": "ipython",
    "version": 3
   },
   "file_extension": ".py",
   "mimetype": "text/x-python",
   "name": "python",
   "nbconvert_exporter": "python",
   "pygments_lexer": "ipython3",
   "version": "3.10.0"
  },
  "orig_nbformat": 4
 },
 "nbformat": 4,
 "nbformat_minor": 2
}
