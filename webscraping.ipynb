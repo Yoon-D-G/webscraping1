{
 "cells": [
  {
   "cell_type": "code",
   "execution_count": 30,
   "metadata": {},
   "outputs": [],
   "source": [
    "import requests\n",
    "from bs4 import BeautifulSoup\n",
    "import lxml\n",
    "\n",
    "url = 'http://books.toscrape.com/'\n",
    "dir = '/home/garrotero/category_page_data/'"
   ]
  },
  {
   "cell_type": "code",
   "execution_count": 31,
   "metadata": {},
   "outputs": [],
   "source": [
    "def create_file_with_url_content(url, filename):\n",
    "    req = requests.get(url)\n",
    "    content = req.text\n",
    "    scraping_file = open(dir + filename, 'w')\n",
    "    soup = BeautifulSoup(content)\n",
    "    soup = str(soup)\n",
    "    scraping_file.write(soup)\n",
    "    scraping_file.close()\n",
    "    scraping_file = open(dir + filename, 'a')\n",
    "    scraping_file.write('FULL WEB ADDRESS: {}'.format(url))\n",
    "    scraping_file.close()\n"
   ]
  },
  {
   "cell_type": "code",
   "execution_count": 32,
   "metadata": {},
   "outputs": [],
   "source": [
    "create_file_with_url_content(url, 'category_page_data_0.txt')"
   ]
  },
  {
   "cell_type": "code",
   "execution_count": 33,
   "metadata": {},
   "outputs": [],
   "source": [
    "list_of_hrefs = []\n",
    "for book in open(dir +'category_page_data_0.txt', 'r').readlines():\n",
    "    if 'a href' in book:\n",
    "        list_of_hrefs.append(book)"
   ]
  },
  {
   "cell_type": "code",
   "execution_count": 34,
   "metadata": {},
   "outputs": [],
   "source": [
    "href_file = open('href_file.txt', 'w')"
   ]
  },
  {
   "cell_type": "code",
   "execution_count": 35,
   "metadata": {},
   "outputs": [],
   "source": [
    "for href in list_of_hrefs:\n",
    "    href_file.write(href)\n",
    "href_file.close()"
   ]
  },
  {
   "cell_type": "code",
   "execution_count": 36,
   "metadata": {},
   "outputs": [],
   "source": [
    "def string_search(string):\n",
    "    start = string.find('a href=\"') + len('a href=\"')\n",
    "    end = string.find('\">')\n",
    "    extension = ''\n",
    "    for char in string[start:end]:\n",
    "        extension += char\n",
    "    return extension"
   ]
  },
  {
   "cell_type": "code",
   "execution_count": 37,
   "metadata": {},
   "outputs": [],
   "source": [
    "#https://books.toscrape.com/"
   ]
  },
  {
   "cell_type": "code",
   "execution_count": 38,
   "metadata": {},
   "outputs": [],
   "source": [
    "def list_of_categories():\n",
    "    list_of_categories = []\n",
    "    href_file = open('href_file.txt', 'r')\n",
    "    for href in href_file.readlines():\n",
    "        if 'catalogue/category' in href:\n",
    "            list_of_categories.append('https://books.toscrape.com/' + string_search(href))\n",
    "    return list_of_categories"
   ]
  },
  {
   "cell_type": "code",
   "execution_count": 39,
   "metadata": {},
   "outputs": [
    {
     "name": "stdout",
     "output_type": "stream",
     "text": [
      "['category_page_data_1.txt', 'category_page_data_2.txt', 'category_page_data_3.txt', 'category_page_data_4.txt', 'category_page_data_5.txt', 'category_page_data_6.txt', 'category_page_data_7.txt', 'category_page_data_8.txt', 'category_page_data_9.txt', 'category_page_data_10.txt', 'category_page_data_11.txt', 'category_page_data_12.txt', 'category_page_data_13.txt', 'category_page_data_14.txt', 'category_page_data_15.txt', 'category_page_data_16.txt', 'category_page_data_17.txt', 'category_page_data_18.txt', 'category_page_data_19.txt', 'category_page_data_20.txt', 'category_page_data_21.txt', 'category_page_data_22.txt', 'category_page_data_23.txt', 'category_page_data_24.txt', 'category_page_data_25.txt', 'category_page_data_26.txt', 'category_page_data_27.txt', 'category_page_data_28.txt', 'category_page_data_29.txt', 'category_page_data_30.txt', 'category_page_data_31.txt', 'category_page_data_32.txt', 'category_page_data_33.txt', 'category_page_data_34.txt', 'category_page_data_35.txt', 'category_page_data_36.txt', 'category_page_data_37.txt', 'category_page_data_38.txt', 'category_page_data_39.txt', 'category_page_data_40.txt', 'category_page_data_41.txt', 'category_page_data_42.txt', 'category_page_data_43.txt', 'category_page_data_44.txt', 'category_page_data_45.txt', 'category_page_data_46.txt', 'category_page_data_47.txt', 'category_page_data_48.txt', 'category_page_data_49.txt', 'category_page_data_50.txt', 'category_page_data_51.txt']\n"
     ]
    }
   ],
   "source": [
    "number = 1\n",
    "list_of_files = []\n",
    "for url_page in list_of_categories():\n",
    "    create_file_with_url_content(url_page, 'category_page_data_{}.txt'.format(number))\n",
    "    list_of_files.append('category_page_data_{}.txt'.format(number))\n",
    "    number += 1\n",
    "print(list_of_files)"
   ]
  },
  {
   "cell_type": "code",
   "execution_count": 40,
   "metadata": {},
   "outputs": [],
   "source": [
    "import os\n",
    "os.remove(dir + 'category_page_data_1.txt')"
   ]
  },
  {
   "cell_type": "code",
   "execution_count": 41,
   "metadata": {},
   "outputs": [],
   "source": [
    "#for filename in os.listdir('/home/garrotero/webscraping'):\n",
    "#    if 'category_page_data_' in filename and not filename == 'category_page_data_0':\n",
    "        \n"
   ]
  }
 ],
 "metadata": {
  "interpreter": {
   "hash": "bdb97c11ab54a085a36fa3edc6b9d445b9805a6d2a2882a5626225b5b026c1cf"
  },
  "kernelspec": {
   "display_name": "Python 3.10.0 64-bit ('webscraping': conda)",
   "language": "python",
   "name": "python3"
  },
  "language_info": {
   "codemirror_mode": {
    "name": "ipython",
    "version": 3
   },
   "file_extension": ".py",
   "mimetype": "text/x-python",
   "name": "python",
   "nbconvert_exporter": "python",
   "pygments_lexer": "ipython3",
   "version": "3.10.0"
  },
  "orig_nbformat": 4
 },
 "nbformat": 4,
 "nbformat_minor": 2
}
